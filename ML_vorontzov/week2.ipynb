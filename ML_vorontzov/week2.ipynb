{
 "cells": [
  {
   "cell_type": "code",
   "execution_count": 65,
   "metadata": {
    "collapsed": false
   },
   "outputs": [],
   "source": [
    "import pandas as pd\n",
    "import numpy as np\n",
    "from sklearn.tree import DecisionTreeClassifier\n",
    "from sklearn.cross_validation import KFold\n",
    "from sklearn.cross_validation import cross_val_score\n",
    "from sklearn.neighbors import KNeighborsClassifier\n",
    "from sklearn.preprocessing import scale\n",
    "import matplotlib.pyplot as plt\n",
    "from sklearn.datasets import load_boston\n",
    "from sklearn.neighbors import KNeighborsRegressor\n",
    "from sklearn.linear_model import Perceptron\n",
    "from sklearn.preprocessing import StandardScaler"
   ]
  },
  {
   "cell_type": "code",
   "execution_count": null,
   "metadata": {
    "collapsed": false
   },
   "outputs": [],
   "source": [
    "data = pd.read_csv(\"C:/Users/U_M0SLV/Downloads/titanic.csv\")\n",
    "data.dtypes"
   ]
  },
  {
   "cell_type": "code",
   "execution_count": null,
   "metadata": {
    "collapsed": false
   },
   "outputs": [],
   "source": [
    "#Amount of male and female\n",
    "data.groupby(\"Sex\").agg({\"PassengerId\": lambda x: x.count()}).to_dict()['PassengerId']"
   ]
  },
  {
   "cell_type": "code",
   "execution_count": null,
   "metadata": {
    "collapsed": false
   },
   "outputs": [],
   "source": [
    "#Survival rate\n",
    "tmp=data.groupby(\"Survived\").agg({\"PassengerId\": lambda x: x.count()}).to_dict()['PassengerId']\n",
    "1.0*tmp[1]/(tmp[0]+tmp[1])"
   ]
  },
  {
   "cell_type": "code",
   "execution_count": null,
   "metadata": {
    "collapsed": false
   },
   "outputs": [],
   "source": [
    "#1st class passengers' rate\n",
    "tmp=data.groupby(\"Pclass\").agg({\"PassengerId\": lambda x: x.count()}).to_dict()['PassengerId']\n",
    "1.0*tmp[1]/data[\"PassengerId\"].size"
   ]
  },
  {
   "cell_type": "code",
   "execution_count": null,
   "metadata": {
    "collapsed": false
   },
   "outputs": [],
   "source": [
    "#mean and median\n",
    "print \"mean age: \"+ str(data[\"Age\"].mean())\n",
    "print \"mean age: \"+ str(data[\"Age\"].median())"
   ]
  },
  {
   "cell_type": "code",
   "execution_count": null,
   "metadata": {
    "collapsed": false
   },
   "outputs": [],
   "source": [
    "#Pearson correlation\n",
    "data.corr()['SibSp']['Parch']"
   ]
  },
  {
   "cell_type": "code",
   "execution_count": null,
   "metadata": {
    "collapsed": false
   },
   "outputs": [],
   "source": [
    "#most popular name\n",
    "data[data[\"Sex\"] == 'female'][\"Name\"].str.extract('(Miss\\. |Mrs\\.[A-Za-z ]*\\()([A-Za-z]*)')[1].value_counts()[:1]"
   ]
  },
  {
   "cell_type": "code",
   "execution_count": null,
   "metadata": {
    "collapsed": false
   },
   "outputs": [],
   "source": [
    "#decision tree classifier\n",
    "clf = DecisionTreeClassifier(random_state=241)\n",
    "tmp=data[[\"Pclass\", \"Fare\", \"Age\", \"Survived\",\"Sex\"]]\n",
    "tmp=tmp.dropna()\n",
    "#print tmp.shape\n",
    "tmp = tmp.replace({\"Sex\": {\"female\": 0, \"male\": 1}})\n",
    "tmp[\"Sex\"]=tmp[\"Sex\"].astype(\"category\", categories=[0,1], ordered=False)\n",
    "clf.fit(tmp[[\"Pclass\", \"Fare\", \"Age\", \"Sex\"]],tmp[\"Survived\"])\n",
    "print clf.feature_importances_"
   ]
  },
  {
   "cell_type": "markdown",
   "metadata": {},
   "source": [
    "# KNN and cross-validation"
   ]
  },
  {
   "cell_type": "code",
   "execution_count": 81,
   "metadata": {
    "collapsed": false
   },
   "outputs": [],
   "source": [
    "data = np.genfromtxt(\"C:/Users/U_M0SLV/Downloads/wine.data.txt\", delimiter=',')\n",
    "Y = data[:,0]\n",
    "X = data[:,1:]"
   ]
  },
  {
   "cell_type": "code",
   "execution_count": null,
   "metadata": {
    "collapsed": false
   },
   "outputs": [],
   "source": [
    "#perform cross-validation\n",
    "kfold = KFold(X.size, n_folds=5, shuffle=True, random_state=42)\n",
    "knn = KNeighborsClassifier(n_neighbors=1)\n"
   ]
  },
  {
   "cell_type": "code",
   "execution_count": 21,
   "metadata": {
    "collapsed": false
   },
   "outputs": [],
   "source": [
    "#perform cross-validation\n",
    "kfl = KFold(Y.size, n_folds=5, shuffle=True, random_state=42)\n",
    "scores = []\n",
    "k_range = range(1,50)\n",
    "for i in k_range:\n",
    "    knn1 = KNeighborsClassifier(n_neighbors=i)\n",
    "    scores.append(cross_val_score(knn1, X, Y, cv=kfl, scoring='accuracy').mean())"
   ]
  },
  {
   "cell_type": "code",
   "execution_count": 38,
   "metadata": {
    "collapsed": false
   },
   "outputs": [],
   "source": [
    "plt.plot(k_range, scores)\n",
    "plt.xlabel('Value of K for KNN')\n",
    "plt.ylabel('Cross-Validated Accuracy')\n",
    "plt.show()"
   ]
  },
  {
   "cell_type": "code",
   "execution_count": 33,
   "metadata": {
    "collapsed": false
   },
   "outputs": [
    {
     "name": "stdout",
     "output_type": "stream",
     "text": [
      "Minimum KNN error for k=1 with error 0.730476190476\n"
     ]
    }
   ],
   "source": [
    "print \"Minimum KNN error for k=\" + str(scores.index(max(scores))+1) + \" with error \" + str(max(scores))"
   ]
  },
  {
   "cell_type": "code",
   "execution_count": 36,
   "metadata": {
    "collapsed": false
   },
   "outputs": [],
   "source": [
    "X_norm = scale(X, axis=0)"
   ]
  },
  {
   "cell_type": "code",
   "execution_count": 37,
   "metadata": {
    "collapsed": true
   },
   "outputs": [],
   "source": [
    "#perform cross-validation\n",
    "kfl = KFold(Y.size, n_folds=5, shuffle=True, random_state=42)\n",
    "scores = []\n",
    "k_range = range(1,50)\n",
    "for i in k_range:\n",
    "    knn1 = KNeighborsClassifier(n_neighbors=i)\n",
    "    scores.append(cross_val_score(knn1, X_norm, Y, cv=kfl, scoring='accuracy').mean())"
   ]
  },
  {
   "cell_type": "code",
   "execution_count": 39,
   "metadata": {
    "collapsed": false
   },
   "outputs": [
    {
     "name": "stdout",
     "output_type": "stream",
     "text": [
      "The best KNN error with scaling for k=29 with error 0.977619047619\n"
     ]
    }
   ],
   "source": [
    "print \"The best KNN error with scaling for k=\" + str(scores.index(max(scores))+1) + \" with error \" + str(max(scores))"
   ]
  },
  {
   "cell_type": "markdown",
   "metadata": {},
   "source": [
    "# Regression based on k-nearest neighbors"
   ]
  },
  {
   "cell_type": "code",
   "execution_count": 47,
   "metadata": {
    "collapsed": false
   },
   "outputs": [],
   "source": [
    "data = load_boston()\n",
    "Y=data.target\n",
    "X=data.data\n",
    "X_norm = scale(X, axis=0)"
   ]
  },
  {
   "cell_type": "code",
   "execution_count": 56,
   "metadata": {
    "collapsed": false
   },
   "outputs": [],
   "source": [
    "kfl = KFold(Y.size, n_folds=5, shuffle=True, random_state=42)\n",
    "p_range = np.linspace(1,10,50)\n",
    "scores = []\n",
    "for i in p_range:\n",
    "    knr = KNeighborsRegressor(n_neighbors=5, weights='distance', p=i)\n",
    "    scores.append(cross_val_score(knr, X_norm, Y, cv=kfl, scoring='mean_squared_error').mean())"
   ]
  },
  {
   "cell_type": "code",
   "execution_count": 63,
   "metadata": {
    "collapsed": false
   },
   "outputs": [],
   "source": [
    "plt.plot(p_range, scores)\n",
    "plt.xlabel('Value of p for KNR')\n",
    "plt.ylabel('Cross-Validated MSE')\n",
    "plt.show()"
   ]
  },
  {
   "cell_type": "code",
   "execution_count": 64,
   "metadata": {
    "collapsed": false
   },
   "outputs": [
    {
     "name": "stdout",
     "output_type": "stream",
     "text": [
      "Minimum MSE for p=1.18367346939 with error -16.0502085084\n"
     ]
    }
   ],
   "source": [
    "print \"Minimum MSE for p=\" + str(p_range[scores.index(max(scores))+1]) + \" with error \" + str(max(scores))"
   ]
  },
  {
   "cell_type": "markdown",
   "metadata": {},
   "source": [
    "# Нормализация признаков и перспетрон"
   ]
  },
  {
   "cell_type": "code",
   "execution_count": 90,
   "metadata": {
    "collapsed": false
   },
   "outputs": [],
   "source": [
    "data_test = np.genfromtxt(\"C:/Users/U_M0SLV/Downloads/perceptron-test.csv\", delimiter=',')\n",
    "data_train = np.genfromtxt(\"C:/Users/U_M0SLV/Downloads/perceptron-train.csv\", delimiter=',')"
   ]
  },
  {
   "cell_type": "code",
   "execution_count": 92,
   "metadata": {
    "collapsed": false
   },
   "outputs": [],
   "source": [
    "Y_train = data_train[:,0]\n",
    "X_train = data_train[:,1:]\n",
    "Y_test = data_test[:,0]\n",
    "X_test = data_test[:,1:]"
   ]
  },
  {
   "cell_type": "code",
   "execution_count": 101,
   "metadata": {
    "collapsed": false
   },
   "outputs": [
    {
     "data": {
      "text/plain": [
       "0.35999999999999999"
      ]
     },
     "execution_count": 101,
     "metadata": {},
     "output_type": "execute_result"
    }
   ],
   "source": [
    "clf = Perceptron(random_state=241)\n",
    "clf.fit(X_train, Y_train)\n",
    "clf.score(X_test, Y_test)"
   ]
  },
  {
   "cell_type": "code",
   "execution_count": 102,
   "metadata": {
    "collapsed": false
   },
   "outputs": [
    {
     "data": {
      "text/plain": [
       "0.92500000000000004"
      ]
     },
     "execution_count": 102,
     "metadata": {},
     "output_type": "execute_result"
    }
   ],
   "source": [
    "scaler = StandardScaler()\n",
    "X_train_scaled = scaler.fit_transform(X_train)\n",
    "X_test_scaled = scaler.transform(X_test)\n",
    "clf1 = Perceptron(random_state=241)\n",
    "clf1.fit(X_train_scaled, Y_train)\n",
    "clf1.score(X_test_scaled, Y_test)"
   ]
  },
  {
   "cell_type": "code",
   "execution_count": 103,
   "metadata": {
    "collapsed": false
   },
   "outputs": [
    {
     "name": "stdout",
     "output_type": "stream",
     "text": [
      "Difference between accuracy on non-scaled and scaled features: 0.565\n"
     ]
    }
   ],
   "source": [
    "print \"Difference between accuracy on non-scaled and scaled features: \" + str(clf1.score(X_test_scaled, Y_test)-clf.score(X_test, Y_test))"
   ]
  }
 ],
 "metadata": {
  "kernelspec": {
   "display_name": "Python 2",
   "language": "python",
   "name": "python2"
  },
  "language_info": {
   "codemirror_mode": {
    "name": "ipython",
    "version": 2
   },
   "file_extension": ".py",
   "mimetype": "text/x-python",
   "name": "python",
   "nbconvert_exporter": "python",
   "pygments_lexer": "ipython2",
   "version": "2.7.10"
  }
 },
 "nbformat": 4,
 "nbformat_minor": 0
}
