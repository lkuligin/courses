{
 "cells": [
  {
   "cell_type": "code",
   "execution_count": 1,
   "metadata": {
    "collapsed": true
   },
   "outputs": [],
   "source": [
    "import pandas as pd\n",
    "import numpy as np\n",
    "import time\n",
    "import datetime\n",
    "from sklearn.cross_validation import KFold, cross_val_score\n",
    "from sklearn.ensemble import GradientBoostingClassifier\n",
    "from sklearn.metrics import roc_auc_score\n",
    "import matplotlib.pyplot as plt\n",
    "%matplotlib inline\n",
    "from sklearn.linear_model import LogisticRegression\n",
    "from sklearn.preprocessing import scale"
   ]
  },
  {
   "cell_type": "markdown",
   "metadata": {},
   "source": [
    "# Summary"
   ]
  },
  {
   "cell_type": "markdown",
   "metadata": {},
   "source": [
    "<b>Градиентный бустинг:</b><ol><li>12 признаков имеют пропуски (см. список ниже). В некоторых случаях это может быть объяснено отсутствием наступившего события (например, first_blood_time или first_blood_team).</li><li>Целевая переменная содержится в столбце</li><li>Кросс-валидация для градиентого бустинга на 30 деревьях проходит примерно за 5минут (на моем ПК). AUC на кросс-валидации ~0.70.</li><li>Больше 30 деревьев в градиентном бустинге имеет смысл использовать, но прирост качества будет \"небольшим\". Для ускорения можно использовать стохастический градиентный бустинг (т.е. добавить элементы бэггинга - обучаться на каждом шаге на случайной подвыборке).</li></ol><br>\n",
    "<b>Логистическая регрессия:</b><ol>\n",
    "<li>Логистическая регрессия ожидаемо работает существенно быстрее градиентного бустинга. При C=1 ROC-AUC = 0.7165 (качество чуть лучше, чем у градиентного бустинга). Нужно отметить, что это достигнуто в том числе за счет нормировки фичей.</li><li>Если убрать категориальные признаки, качество не меняется (в чевертом знаке, объясняет случайными флуктуациями). Категориальные фичи не участвовали в построении логистической регрессии.</li><li>В игре 108 уникальных героев</li><li>После бинаризации категориальных признаков качество ожидаемо возрастает (до ~0.7519)</li><li>Минимальное значение предсказания 0.01, максимальное - 1.0</li></ol>\n",
    "<b>Все выкладки и результаты - см. ниже</b>"
   ]
  },
  {
   "cell_type": "markdown",
   "metadata": {},
   "source": [
    "# Gradient boosting"
   ]
  },
  {
   "cell_type": "code",
   "execution_count": 2,
   "metadata": {
    "collapsed": false
   },
   "outputs": [],
   "source": [
    "features = pd.read_csv('./features.csv', index_col='match_id')"
   ]
  },
  {
   "cell_type": "code",
   "execution_count": 3,
   "metadata": {
    "collapsed": false
   },
   "outputs": [],
   "source": [
    "#drop features that are not represented in the test set\n",
    "features_final = ['duration',  'tower_status_radiant', 'tower_status_dire', \n",
    "                  'barracks_status_radiant', 'barracks_status_dire']\n",
    "for f in features_final:\n",
    "    features = features.drop(f, axis = 1)"
   ]
  },
  {
   "cell_type": "code",
   "execution_count": 4,
   "metadata": {
    "collapsed": false
   },
   "outputs": [
    {
     "name": "stdout",
     "output_type": "stream",
     "text": [
      "Features first_blood_time has 25.17% missing values\n",
      "Features first_blood_team has 25.17% missing values\n",
      "Features first_blood_player1 has 25.17% missing values\n",
      "Features first_blood_player2 has 82.62% missing values\n",
      "Features radiant_bottle_time has 19.24% missing values\n",
      "Features radiant_courier_time has 0.72% missing values\n",
      "Features radiant_flying_courier_time has 39.40% missing values\n",
      "Features radiant_first_ward_time has 1.92% missing values\n",
      "Features dire_bottle_time has 19.91% missing values\n",
      "Features dire_courier_time has 0.70% missing values\n",
      "Features dire_flying_courier_time has 36.69% missing values\n",
      "Features dire_first_ward_time has 1.91% missing values\n"
     ]
    }
   ],
   "source": [
    "#features with missing values\n",
    "for f in features.columns:\n",
    "    tmp = 1.0*features[f].isnull().sum()/features[f].count()\n",
    "    if tmp > 0:\n",
    "        print \"Features {0} has {1:.2%} missing values\".format(f, tmp)\n",
    "        features[f] = features[f].fillna(0)\n",
    "        \n",
    "#first_blood features might have missing values in case when there was no blood during the game (= it can be an additional binary feature)"
   ]
  },
  {
   "cell_type": "code",
   "execution_count": 6,
   "metadata": {
    "collapsed": false
   },
   "outputs": [],
   "source": [
    "#our target variable is radiant_win (0,1)\n",
    "Y = features.radiant_win\n",
    "X = features[[c for c in features.columns if c <> 'radiant_win']]\n",
    "kfl = KFold(Y.size, n_folds=5, shuffle=True, random_state=42)"
   ]
  },
  {
   "cell_type": "code",
   "execution_count": 8,
   "metadata": {
    "collapsed": false
   },
   "outputs": [
    {
     "name": "stdout",
     "output_type": "stream",
     "text": [
      "Time elapsed: 0:01:06.498000\n",
      "Time elapsed: 0:01:07.768000\n",
      "Time elapsed: 0:01:44.712000\n",
      "Time elapsed: 0:01:27.300000\n",
      "Time elapsed: 0:01:11.681000\n",
      "Time elapsed: 0:01:19.680000\n",
      "Time elapsed: 0:01:32.476000\n",
      "Time elapsed: 0:01:24.802000\n",
      "Time elapsed: 0:01:01.005000\n",
      "Time elapsed: 0:00:58.786000\n",
      "Time elapsed: 0:01:01.018000\n",
      "Time elapsed: 0:02:05.731000\n",
      "Time elapsed: 0:02:40.003000\n",
      "Time elapsed: 0:01:59.898000\n",
      "Time elapsed: 0:02:10.535000\n",
      "Time elapsed: 0:02:30.005000\n",
      "Time elapsed: 0:01:51.658000\n",
      "Time elapsed: 0:02:11.807000\n",
      "Time elapsed: 0:02:24.954000\n",
      "Time elapsed: 0:01:49.143000\n",
      "Time elapsed: 0:01:49.186000\n",
      "Time elapsed: 0:01:53.659000\n",
      "Time elapsed: 0:02:44.575000\n",
      "Time elapsed: 0:02:42.295000\n",
      "Time elapsed: 0:03:12.959000\n",
      "Time elapsed: 0:02:43.645000\n",
      "Time elapsed: 0:03:01.920000\n",
      "Time elapsed: 0:02:43.425000\n",
      "Time elapsed: 0:02:45.455000\n",
      "Time elapsed: 0:03:07.630000\n",
      "Time elapsed: 0:02:39.213000\n",
      "Time elapsed: 0:03:04.863000\n",
      "Time elapsed: 0:02:37.417000\n"
     ]
    }
   ],
   "source": [
    "scores = []\n",
    "k_range = [10, 20, 30]\n",
    "l_range = [0.1, 0.4, 0.45, 0.48, 0.49, 0.5, 0.51, 0.52, 0.55, 0.6, 1.0]\n",
    "for i in k_range:\n",
    "    for l in l_range:\n",
    "        clf =  GradientBoostingClassifier(n_estimators = i, learning_rate = l)\n",
    "        start_time = datetime.datetime.now()\n",
    "        scores.append({'estimators': i, \n",
    "                       'learnig rate': l,\n",
    "                       'score': cross_val_score(clf, X, Y, cv=kfl, scoring='roc_auc').mean()})\n",
    "        print 'Time elapsed:', datetime.datetime.now() - start_time\n",
    "#for n_estimators = 30 cross-validation took ~5 min for one iteration"
   ]
  },
  {
   "cell_type": "code",
   "execution_count": 10,
   "metadata": {
    "collapsed": false
   },
   "outputs": [
    {
     "name": "stdout",
     "output_type": "stream",
     "text": [
      "The best score for is.nan = 0 is [{'score': 0.70334164350763362, 'learnig rate': 0.49, 'estimators': 30}]\n"
     ]
    }
   ],
   "source": [
    "tmp = max([s['score'] for s in scores])\n",
    "print \"The best score for is.nan = 0 is {0}\".format([s for s in scores if s['score'] == tmp])"
   ]
  },
  {
   "cell_type": "code",
   "execution_count": 11,
   "metadata": {
    "collapsed": false
   },
   "outputs": [
    {
     "data": {
      "image/png": "[encoded data removed]",
      "text/plain": [
       "<matplotlib.figure.Figure at 0x1fe9d828>"
      ]
     },
     "metadata": {},
     "output_type": "display_data"
    },
    {
     "name": "stdout",
     "output_type": "stream",
     "text": [
      "The best score for is.nan = 0 is [{'score': 0.70334164350763362, 'learnig rate': 0.49, 'estimators': 30}]\n"
     ]
    }
   ],
   "source": [
    "plt.figure(1)\n",
    "plt.scatter([s['learnig rate'] for s in scores if s['estimators'] == 30], [s['score'] for s in scores if s['estimators'] == 30])\n",
    "plt.show()\n",
    "tmp = max([s['score'] for s in scores if s['estimators'] == 30])\n",
    "print \"The best score for is.nan = 0 is {0}\".format([s for s in scores if s['score'] == tmp and s['estimators'] == 30])"
   ]
  },
  {
   "cell_type": "markdown",
   "metadata": {
    "collapsed": true
   },
   "source": [
    "# Logistic regression"
   ]
  },
  {
   "cell_type": "code",
   "execution_count": 14,
   "metadata": {
    "collapsed": false
   },
   "outputs": [
    {
     "name": "stdout",
     "output_type": "stream",
     "text": [
      "0.1\n",
      "Time elapsed: 0:00:35.454000\n",
      "0.5\n",
      "Time elapsed: 0:00:51.273000\n",
      "1.0\n",
      "Time elapsed: 0:01:05.641000\n",
      "10\n",
      "Time elapsed: 0:00:46.545000\n",
      "50\n",
      "Time elapsed: 0:00:46.456000\n",
      "100\n",
      "Time elapsed: 0:00:46.183000\n"
     ]
    }
   ],
   "source": [
    "#Logistic regression\n",
    "scores_lr1 = []\n",
    "C_range = np.linspace(0, 1, 50)\n",
    "C_range = [0.01, 0.1, 0.5, 1.0, 10, 50, 100]\n",
    "kfl = KFold(Y.size, n_folds=5, shuffle=True, random_state=42)\n",
    "X_norm = scale(X, axis=0)\n",
    "for i in C_range[1:]:\n",
    "    print i\n",
    "    clf_lr = LogisticRegression(penalty = 'l2', C=i)\n",
    "    start_time = datetime.datetime.now()\n",
    "    scores_lr1.append({\"C\": i,\n",
    "                    \"score\": cross_val_score(clf_lr, X_norm, Y, cv=kfl, scoring='roc_auc').mean()})\n",
    "    print 'Time elapsed:', datetime.datetime.now() - start_time"
   ]
  },
  {
   "cell_type": "code",
   "execution_count": 15,
   "metadata": {
    "collapsed": false
   },
   "outputs": [
    {
     "name": "stdout",
     "output_type": "stream",
     "text": [
      "The best score for is.nan = 0 is [{'C': 0.1, 'score': 0.71652715290247593}]\n"
     ]
    }
   ],
   "source": [
    "tmp = max([s['score'] for s in scores_lr1])\n",
    "print \"The best score for is.nan = 0 is {0}\".format([s for s in scores_lr1 if s['score'] == tmp])"
   ]
  },
  {
   "cell_type": "code",
   "execution_count": 16,
   "metadata": {
    "collapsed": true
   },
   "outputs": [],
   "source": [
    "#Logistic regression without categorical features\n",
    "features_cat = ['lobby_type', 'r1_hero', 'r2_hero', 'r3_hero', 'r4_hero', 'r5_hero', \n",
    "                'd1_hero', 'd2_hero', 'd3_hero', 'd4_hero', 'd5_hero']"
   ]
  },
  {
   "cell_type": "code",
   "execution_count": 18,
   "metadata": {
    "collapsed": false
   },
   "outputs": [
    {
     "name": "stdout",
     "output_type": "stream",
     "text": [
      "Time elapsed: 0:00:45.187000\n",
      "Time elapsed: 0:00:42.348000\n",
      "Time elapsed: 0:00:42.695000\n",
      "Time elapsed: 0:00:51.203000\n",
      "Time elapsed: 0:00:57.682000\n",
      "Time elapsed: 0:00:59.235000\n",
      "Time elapsed: 0:00:58.586000\n"
     ]
    }
   ],
   "source": [
    "Y = features.radiant_win\n",
    "X = features[[c for c in features.columns if (c not in features_cat) and (c <> 'radiant_win')]]\n",
    "kfl = KFold(Y.size, n_folds=5, shuffle=True, random_state=42)\n",
    "scores_lr2 = []\n",
    "C_range = [0.01, 0.1, 0.5, 1.0, 10, 50, 100]\n",
    "X_norm = scale(X, axis=0)\n",
    "for c in C_range:\n",
    "    clf_lr = LogisticRegression(penalty = 'l2', C = c)\n",
    "    start_time = datetime.datetime.now()\n",
    "    scores_lr2.append({\"C\": c,\n",
    "                    \"score\": cross_val_score(clf_lr, X_norm, Y, cv=kfl, scoring='roc_auc').mean()})\n",
    "    print 'Time elapsed:', datetime.datetime.now() - start_time"
   ]
  },
  {
   "cell_type": "code",
   "execution_count": 19,
   "metadata": {
    "collapsed": false
   },
   "outputs": [
    {
     "name": "stdout",
     "output_type": "stream",
     "text": [
      "The best score for is.nan = 0 is [{'C': 0.01, 'score': 0.71655938644491324}]\n"
     ]
    }
   ],
   "source": [
    "tmp = max([s['score'] for s in scores_lr2])\n",
    "print \"The best score for is.nan = 0 is {0}\".format([s for s in scores_lr2 if s['score'] == tmp])"
   ]
  },
  {
   "cell_type": "code",
   "execution_count": 20,
   "metadata": {
    "collapsed": false
   },
   "outputs": [
    {
     "name": "stdout",
     "output_type": "stream",
     "text": [
      "There are 108 unique heros in the game\n"
     ]
    }
   ],
   "source": [
    "hero_features = ['r1_hero', 'r2_hero', 'r3_hero', 'r4_hero', 'r5_hero', \n",
    "                'd1_hero', 'd2_hero', 'd3_hero', 'd4_hero', 'd5_hero']\n",
    "heros =[]\n",
    "for f in hero_features:\n",
    "    heros = np.concatenate((heros,features[f].unique()), axis=1)\n",
    "heros = np.unique(heros)\n",
    "print \"There are {0} unique heros in the game\".format(len(heros))"
   ]
  },
  {
   "cell_type": "code",
   "execution_count": 21,
   "metadata": {
    "collapsed": false
   },
   "outputs": [],
   "source": [
    "X_pick = np.zeros((features.shape[0], len(heros)))\n",
    "for i, match_id in enumerate(features.index):\n",
    "    for p in xrange(5):\n",
    "        X_pick[i, np.argwhere(heros == features.ix[match_id, 'r%d_hero' % (p+1)])[0][0]] = 1\n",
    "        X_pick[i, np.argwhere(heros == features.ix[match_id, 'd%d_hero' % (p+1)])[0][0]] = -1\n",
    "X_pick = pd.DataFrame(X_pick)\n",
    "X_pick.columns = [\"hero=%d\" % i for i in X_pick.columns]\n",
    "X_pick.index = features.index"
   ]
  },
  {
   "cell_type": "code",
   "execution_count": 22,
   "metadata": {
    "collapsed": false
   },
   "outputs": [
    {
     "name": "stdout",
     "output_type": "stream",
     "text": [
      "Time elapsed: 0:01:41.577000\n",
      "Time elapsed: 0:01:50.863000\n",
      "Time elapsed: 0:01:58.599000\n",
      "Time elapsed: 0:01:51.414000\n",
      "Time elapsed: 0:01:52.300000\n",
      "Time elapsed: 0:01:51.757000\n",
      "Time elapsed: 0:01:51.239000\n"
     ]
    }
   ],
   "source": [
    "Y = features.radiant_win\n",
    "X = features[[c for c in features.columns if (c not in features_cat) and (c <> 'radiant_win')]]\n",
    "#include only N-1 dummy features\n",
    "X = pd.concat([X,X_pick.loc[:, X_pick.columns[1:]]], axis = 1)\n",
    "kfl = KFold(Y.size, n_folds=5, shuffle=True, random_state=42)\n",
    "scores_lr3 = []\n",
    "C_range = [0.01, 0.1, 0.5, 1.0, 10, 50, 100]\n",
    "X_norm = scale(X, axis=0)\n",
    "for c in C_range:\n",
    "    clf_lr = LogisticRegression(penalty = 'l2', C = c)\n",
    "    start_time = datetime.datetime.now()\n",
    "    scores_lr3.append({\"C\": c,\n",
    "                    \"score\": cross_val_score(clf_lr, X_norm, Y, cv=kfl, scoring='roc_auc').mean()})\n",
    "    print 'Time elapsed:', datetime.datetime.now() - start_time"
   ]
  },
  {
   "cell_type": "code",
   "execution_count": 23,
   "metadata": {
    "collapsed": false
   },
   "outputs": [
    {
     "name": "stdout",
     "output_type": "stream",
     "text": [
      "The best score for is.nan = 0 is [{'C': 0.01, 'score': 0.75192899100206279}]\n"
     ]
    }
   ],
   "source": [
    "tmp = max([s['score'] for s in scores_lr3])\n",
    "print \"The best score for is.nan = 0 is {0}\".format([s for s in scores_lr3 if s['score'] == tmp])"
   ]
  },
  {
   "cell_type": "code",
   "execution_count": 25,
   "metadata": {
    "collapsed": false
   },
   "outputs": [],
   "source": [
    "clf = LogisticRegression(penalty = 'l2', C = 0.01)\n",
    "model = clf.fit(X_norm, Y)"
   ]
  },
  {
   "cell_type": "markdown",
   "metadata": {},
   "source": [
    "# Submission"
   ]
  },
  {
   "cell_type": "code",
   "execution_count": 26,
   "metadata": {
    "collapsed": true
   },
   "outputs": [],
   "source": [
    "features_test = pd.read_csv('./features_test.csv', index_col='match_id')"
   ]
  },
  {
   "cell_type": "code",
   "execution_count": 27,
   "metadata": {
    "collapsed": true
   },
   "outputs": [],
   "source": [
    "X_test = features_test[[c for c in features_test.columns if (c not in features_cat) and (c <> 'radiant_win')]]"
   ]
  },
  {
   "cell_type": "code",
   "execution_count": 29,
   "metadata": {
    "collapsed": false
   },
   "outputs": [
    {
     "name": "stdout",
     "output_type": "stream",
     "text": [
      "Features first_blood_time has 26.07% missing values\n",
      "Features first_blood_team has 26.07% missing values\n",
      "Features first_blood_player1 has 26.07% missing values\n",
      "Features first_blood_player2 has 82.52% missing values\n",
      "Features radiant_bottle_time has 20.27% missing values\n",
      "Features radiant_courier_time has 0.74% missing values\n",
      "Features radiant_flying_courier_time has 39.74% missing values\n",
      "Features radiant_first_ward_time has 1.96% missing values\n",
      "Features dire_bottle_time has 19.83% missing values\n",
      "Features dire_courier_time has 0.76% missing values\n",
      "Features dire_flying_courier_time has 35.75% missing values\n",
      "Features dire_first_ward_time has 1.55% missing values\n"
     ]
    }
   ],
   "source": [
    "for f in features_test.columns:\n",
    "    tmp = 1.0*features_test[f].isnull().sum()/features_test[f].count()\n",
    "    if tmp > 0:\n",
    "        print \"Features {0} has {1:.2%} missing values\".format(f, tmp)\n",
    "        features_test[f] = features_test[f].fillna(0)"
   ]
  },
  {
   "cell_type": "code",
   "execution_count": 30,
   "metadata": {
    "collapsed": true
   },
   "outputs": [],
   "source": [
    "X_pick_test = np.zeros((features_test.shape[0], len(heros)))\n",
    "for i, match_id in enumerate(features_test.index):\n",
    "    for p in xrange(5):\n",
    "        X_pick_test[i, np.argwhere(heros == features_test.ix[match_id, 'r%d_hero' % (p+1)])[0][0]] = 1\n",
    "        X_pick_test[i, np.argwhere(heros == features_test.ix[match_id, 'd%d_hero' % (p+1)])[0][0]] = -1\n",
    "X_pick_test = pd.DataFrame(X_pick_test)\n",
    "X_pick_test.columns = [\"hero=%d\" % i for i in X_pick_test.columns]\n",
    "X_pick_test.index = features_test.index"
   ]
  },
  {
   "cell_type": "code",
   "execution_count": 32,
   "metadata": {
    "collapsed": false
   },
   "outputs": [],
   "source": [
    "X_test = features_test[[c for c in features_test.columns if (c not in features_cat) and (c <> 'radiant_win')]]\n",
    "X_test = pd.concat([X_test,X_pick_test.loc[:, X_pick_test.columns[1:]]], axis = 1)\n",
    "X_test_norm = scale(X_test, axis=0)\n",
    "Y_pred = model.predict(X_test_norm)\n",
    "Y_pred_prob = model.predict_proba(X_test_norm)"
   ]
  },
  {
   "cell_type": "code",
   "execution_count": 33,
   "metadata": {
    "collapsed": false
   },
   "outputs": [
    {
     "data": {
      "image/png": "[encoded data removed]",
      "text/plain": [
       "<matplotlib.figure.Figure at 0x20c56710>"
      ]
     },
     "metadata": {},
     "output_type": "display_data"
    }
   ],
   "source": [
    "plt.figure(1)\n",
    "plt.hist(Y_pred_prob)\n",
    "plt.show()"
   ]
  },
  {
   "cell_type": "code",
   "execution_count": 34,
   "metadata": {
    "collapsed": false
   },
   "outputs": [],
   "source": [
    "Y_pred = [i[1] for i in Y_pred_prob]\n",
    "res = pd.DataFrame(Y_pred)\n",
    "res.index = X_test.index\n",
    "res.columns = ['radiant_win']"
   ]
  },
  {
   "cell_type": "code",
   "execution_count": 41,
   "metadata": {
    "collapsed": false
   },
   "outputs": [
    {
     "name": "stdout",
     "output_type": "stream",
     "text": [
      "Минимальное 0.01 и максимальное 1.00 предсказание на тестовой выборке\n"
     ]
    }
   ],
   "source": [
    "print \"Минимальное {0:.2f} и максимальное {1:.2f} предсказание на тестовой выборке\".format(min(Y_pred), max(Y_pred))"
   ]
  },
  {
   "cell_type": "code",
   "execution_count": 39,
   "metadata": {
    "collapsed": false
   },
   "outputs": [],
   "source": [
    "res.to_csv('./submission.csv')"
   ]
  }
 ],
 "metadata": {
  "kernelspec": {
   "display_name": "Python 2",
   "language": "python",
   "name": "python2"
  },
  "language_info": {
   "codemirror_mode": {
    "name": "ipython",
    "version": 2
   },
   "file_extension": ".py",
   "mimetype": "text/x-python",
   "name": "python",
   "nbconvert_exporter": "python",
   "pygments_lexer": "ipython2",
   "version": "2.7.10"
  }
 },
 "nbformat": 4,
 "nbformat_minor": 0
}
