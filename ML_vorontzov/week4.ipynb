{
 "cells": [
  {
   "cell_type": "code",
   "execution_count": 108,
   "metadata": {
    "collapsed": false
   },
   "outputs": [],
   "source": [
    "import pandas as pd\n",
    "import numpy as np\n",
    "from sklearn.feature_extraction.text import TfidfVectorizer\n",
    "from sklearn.feature_extraction import DictVectorizer\n",
    "from scipy.sparse import hstack\n",
    "from sklearn.linear_model import Ridge\n",
    "from sklearn.decomposition import PCA\n",
    "from skimage.io import imread\n",
    "from skimage import img_as_float\n",
    "from sklearn.cluster import KMeans\n",
    "from sklearn.metrics import mean_squared_error\n",
    "from math import log10"
   ]
  },
  {
   "cell_type": "markdown",
   "metadata": {},
   "source": [
    "# Ridge regression & vectorizer"
   ]
  },
  {
   "cell_type": "code",
   "execution_count": 2,
   "metadata": {
    "collapsed": true
   },
   "outputs": [],
   "source": [
    "data = pd.read_csv(\"C:/Users/U_M0SLV/Downloads/salary-train.csv\")"
   ]
  },
  {
   "cell_type": "code",
   "execution_count": 59,
   "metadata": {
    "collapsed": false
   },
   "outputs": [],
   "source": [
    "def transform_data(dataset):\n",
    "    for c in dataset.columns[:-1]: \n",
    "        dataset[c] = dataset[c].apply(lambda x: str(x).lower())\n",
    "    dataset['FullDescription'] = dataset['FullDescription'].replace('[^a-zA-Z0-9]', ' ', regex = True)\n",
    "    dataset['LocationNormalized'] = dataset['LocationNormalized'].replace('[^a-zA-Z0-9]', ' ', regex = True)\n",
    "    dataset['ContractTime'] = dataset['ContractTime'].apply(lambda x: np.nan if x == 'nan' else x)\n",
    "    dataset['LocationNormalized'].fillna('nan', inplace=True)\n",
    "    dataset['ContractTime'].fillna('nan', inplace=True)\n",
    "    return dataset"
   ]
  },
  {
   "cell_type": "code",
   "execution_count": 24,
   "metadata": {
    "collapsed": false
   },
   "outputs": [],
   "source": [
    "data = transform_data(data)"
   ]
  },
  {
   "cell_type": "code",
   "execution_count": 66,
   "metadata": {
    "collapsed": false
   },
   "outputs": [],
   "source": [
    "tfidf_vectorizer = TfidfVectorizer(min_df=5)\n",
    "tfidf = tfidf_vectorizer.fit_transform(data['FullDescription'])"
   ]
  },
  {
   "cell_type": "code",
   "execution_count": 68,
   "metadata": {
    "collapsed": true
   },
   "outputs": [],
   "source": [
    "dvect_vectorizer = DictVectorizer()\n",
    "dvect = dvect_vectorizer.fit_transform(data[['LocationNormalized', 'ContractTime']].to_dict('records'))"
   ]
  },
  {
   "cell_type": "code",
   "execution_count": 46,
   "metadata": {
    "collapsed": false
   },
   "outputs": [],
   "source": [
    "arr = hstack([tfidf, dvect])"
   ]
  },
  {
   "cell_type": "code",
   "execution_count": 49,
   "metadata": {
    "collapsed": false
   },
   "outputs": [],
   "source": [
    "clf = Ridge(alpha=1.0)"
   ]
  },
  {
   "cell_type": "code",
   "execution_count": 51,
   "metadata": {
    "collapsed": false
   },
   "outputs": [],
   "source": [
    "model = clf.fit(arr, data[\"SalaryNormalized\"])"
   ]
  },
  {
   "cell_type": "code",
   "execution_count": 52,
   "metadata": {
    "collapsed": true
   },
   "outputs": [],
   "source": [
    "data_test = pd.read_csv(\"C:/Users/U_M0SLV/Downloads/salary-test-mini.csv\")"
   ]
  },
  {
   "cell_type": "code",
   "execution_count": 69,
   "metadata": {
    "collapsed": false
   },
   "outputs": [],
   "source": [
    "tfidf_test = tfidf_vectorizer.transform(data_test['FullDescription'])\n",
    "dvect_test = dvect_vectorizer.transform(data_test[['LocationNormalized', 'ContractTime']].to_dict('records'))\n",
    "arr_test = hstack([tfidf_test, dvect_test])"
   ]
  },
  {
   "cell_type": "code",
   "execution_count": 70,
   "metadata": {
    "collapsed": true
   },
   "outputs": [],
   "source": [
    "prediction = model.predict(arr_test)"
   ]
  },
  {
   "cell_type": "code",
   "execution_count": 71,
   "metadata": {
    "collapsed": false
   },
   "outputs": [
    {
     "data": {
      "text/plain": [
       "array([ 56563.30950388,  37135.78355465])"
      ]
     },
     "execution_count": 71,
     "metadata": {},
     "output_type": "execute_result"
    }
   ],
   "source": [
    "prediction"
   ]
  },
  {
   "cell_type": "markdown",
   "metadata": {},
   "source": [
    "# PCA"
   ]
  },
  {
   "cell_type": "code",
   "execution_count": 76,
   "metadata": {
    "collapsed": true
   },
   "outputs": [],
   "source": [
    "data = pd.read_csv(\"C:/Users/U_M0SLV/Downloads/close_prices.csv\")\n",
    "djia = pd.read_csv(\"C:/Users/U_M0SLV/Downloads/djia_index.csv\")"
   ]
  },
  {
   "cell_type": "code",
   "execution_count": 82,
   "metadata": {
    "collapsed": true
   },
   "outputs": [],
   "source": [
    "result = pd.concat([data, djia], axis=1, join='inner')"
   ]
  },
  {
   "cell_type": "code",
   "execution_count": 93,
   "metadata": {
    "collapsed": false
   },
   "outputs": [],
   "source": [
    "pca = PCA(n_components=10)\n",
    "model = pca.fit(data[[col for col in data.columns if col <> 'date']])"
   ]
  },
  {
   "cell_type": "code",
   "execution_count": 98,
   "metadata": {
    "collapsed": false
   },
   "outputs": [
    {
     "name": "stdout",
     "output_type": "stream",
     "text": [
      "0.898993755584 0.927742953784\n"
     ]
    }
   ],
   "source": [
    "print model.explained_variance_ratio_[:3].sum(), model.explained_variance_ratio_[:4].sum()"
   ]
  },
  {
   "cell_type": "code",
   "execution_count": 99,
   "metadata": {
    "collapsed": true
   },
   "outputs": [],
   "source": [
    "red = model.transform(data[[col for col in data.columns if col <> 'date']])"
   ]
  },
  {
   "cell_type": "code",
   "execution_count": 108,
   "metadata": {
    "collapsed": false
   },
   "outputs": [],
   "source": [
    "first_component = [a[0] for a in red]"
   ]
  },
  {
   "cell_type": "code",
   "execution_count": 115,
   "metadata": {
    "collapsed": false
   },
   "outputs": [
    {
     "name": "stdout",
     "output_type": "stream",
     "text": [
      "Correlation between Y and the first component: 0.91\n"
     ]
    }
   ],
   "source": [
    "print \"Correlation between Y and the first component: {0:.2f}\".format(np.corrcoef(djia['^DJI'], first_component)[1][0])"
   ]
  },
  {
   "cell_type": "code",
   "execution_count": 130,
   "metadata": {
    "collapsed": false
   },
   "outputs": [],
   "source": [
    "#the maximum-variance component\n",
    "ind=np.argwhere(model.explained_variance_ratio_ == model.explained_variance_ratio_.max())[0][0]\n",
    "#the feature having max value for the maximum-variance component\n",
    "ind =  np.argwhere(model.components_[ind] == model.components_[ind].max())[0][0]"
   ]
  },
  {
   "cell_type": "code",
   "execution_count": 145,
   "metadata": {
    "collapsed": false
   },
   "outputs": [
    {
     "name": "stdout",
     "output_type": "stream",
     "text": [
      "The company having the maximum weight in the maximum component: V\n"
     ]
    }
   ],
   "source": [
    "print \"The company having the maximum weight in the maximum component: {0}\".format(data.columns[ind+1][0][0])"
   ]
  },
  {
   "cell_type": "markdown",
   "metadata": {},
   "source": [
    "# Image's amount of colors reduction"
   ]
  },
  {
   "cell_type": "code",
   "execution_count": 99,
   "metadata": {
    "collapsed": false
   },
   "outputs": [],
   "source": [
    "img = imread(\"C:/Users/l.kuligin/Downloads/parrots.jpg\")\n",
    "img = img_as_float(img)"
   ]
  },
  {
   "cell_type": "code",
   "execution_count": 114,
   "metadata": {
    "collapsed": true
   },
   "outputs": [],
   "source": [
    "x, y, z = img.shape\n",
    "data = np.reshape(img, (x * y, z))"
   ]
  },
  {
   "cell_type": "code",
   "execution_count": 130,
   "metadata": {
    "collapsed": false
   },
   "outputs": [
    {
     "name": "stdout",
     "output_type": "stream",
     "text": [
      "10 19.6967425824\n",
      "11 20.1824248736\n",
      "12 20.651884151\n",
      "13 21.0770050834\n",
      "14 21.3532220202\n"
     ]
    }
   ],
   "source": [
    "for i in range(2,15):\n",
    "    n = i\n",
    "    clf = KMeans(init='k-means++', random_state=241, n_clusters = n)\n",
    "    y_pred = clf.fit_predict(data)\n",
    "    cp = np.array(data)\n",
    "    for j in range(n):\n",
    "        for m in range(3):\n",
    "            me = np.mean(data[np.where(y_pred==j)][:, m])\n",
    "            cp[np.where(y_pred==j), m] = me\n",
    "    #estimate PSNR https://en.wikipedia.org/wiki/Peak_signal-to-noise_ratio\n",
    "    mse = np.mean((cp - data) ** 2)\n",
    "    psnr = 10 * log10(1.0 / mse)\n",
    "    print i, psnr"
   ]
  }
 ],
 "metadata": {
  "kernelspec": {
   "display_name": "Python 2",
   "language": "python",
   "name": "python2"
  },
  "language_info": {
   "codemirror_mode": {
    "name": "ipython",
    "version": 2
   },
   "file_extension": ".py",
   "mimetype": "text/x-python",
   "name": "python",
   "nbconvert_exporter": "python",
   "pygments_lexer": "ipython2",
   "version": "2.7.11"
  }
 },
 "nbformat": 4,
 "nbformat_minor": 0
}
