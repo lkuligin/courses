{
 "cells": [
  {
   "cell_type": "code",
   "execution_count": 436,
   "metadata": {
    "collapsed": false
   },
   "outputs": [],
   "source": [
    "from sklearn.svm import SVC\n",
    "import numpy as np\n",
    "import pandas as pd\n",
    "%matplotlib inline\n",
    "import matplotlib.pyplot as plt\n",
    "from sklearn import datasets\n",
    "from sklearn.feature_extraction.text import TfidfVectorizer\n",
    "from sklearn.grid_search import GridSearchCV\n",
    "from sklearn.cross_validation import KFold\n",
    "from sklearn.metrics import roc_auc_score, accuracy_score, precision_score, recall_score, f1_score, precision_recall_curve\n",
    "from math import exp"
   ]
  },
  {
   "cell_type": "markdown",
   "metadata": {},
   "source": [
    "# SVM example"
   ]
  },
  {
   "cell_type": "code",
   "execution_count": 23,
   "metadata": {
    "collapsed": false
   },
   "outputs": [],
   "source": [
    "data = pd.read_csv(\"C:/Users/U_M0SLV/Downloads/svm-data.csv\", header = None)\n",
    "X=data[[1,2]]\n",
    "Y=data[0]"
   ]
  },
  {
   "cell_type": "code",
   "execution_count": 15,
   "metadata": {
    "collapsed": false
   },
   "outputs": [],
   "source": [
    "svc1 = SVC(C=100000, random_state=241)\n",
    "svc1 = svc1.fit(X, Y)"
   ]
  },
  {
   "cell_type": "code",
   "execution_count": 21,
   "metadata": {
    "collapsed": false
   },
   "outputs": [
    {
     "name": "stdout",
     "output_type": "stream",
     "text": [
      "Supporting vectors: \n"
     ]
    },
    {
     "data": {
      "text/plain": [
       "array([3, 4, 9])"
      ]
     },
     "execution_count": 21,
     "metadata": {},
     "output_type": "execute_result"
    }
   ],
   "source": [
    "print \"Supporting vectors: \"\n",
    "svc1.support_"
   ]
  },
  {
   "cell_type": "code",
   "execution_count": 50,
   "metadata": {
    "collapsed": false
   },
   "outputs": [
    {
     "data": {
      "image/png": "[encoded data removed]",
      "text/plain": [
       "<matplotlib.figure.Figure at 0x21466208>"
      ]
     },
     "metadata": {},
     "output_type": "display_data"
    }
   ],
   "source": [
    "plt.figure(1)\n",
    "plt.scatter(X[1], X[2], c=Y, zorder=10, cmap=plt.cm.Paired)\n",
    "\n",
    "plt.axis('tight')\n",
    "x_min = X[[1]].min()[1]\n",
    "x_max = X[[1]].max()[1]\n",
    "y_min = X[[2]].min()[2]\n",
    "y_max = X[[2]].max()[2]\n",
    "\n",
    "XX, YY = np.mgrid[x_min:x_max:200j, y_min:y_max:200j]\n",
    "Z = svc1.decision_function(np.c_[XX.ravel(), YY.ravel()])\n",
    "# Put the result into a color plot\n",
    "Z = Z.reshape(XX.shape)\n",
    "plt.pcolormesh(XX, YY, Z > 0, cmap=plt.cm.Paired)\n",
    "plt.contour(XX, YY, Z, colors=['k', 'k', 'k'], linestyles=['--', '-', '--'],\n",
    "                levels=[-.5, 0, .5])\n",
    "plt.show()"
   ]
  },
  {
   "cell_type": "markdown",
   "metadata": {},
   "source": [
    "# SVM example with TF-IDF"
   ]
  },
  {
   "cell_type": "code",
   "execution_count": 60,
   "metadata": {
    "collapsed": false
   },
   "outputs": [
    {
     "name": "stderr",
     "output_type": "stream",
     "text": [
      "WARNING:sklearn.datasets.twenty_newsgroups:Downloading dataset from http://people.csail.mit.edu/jrennie/20Newsgroups/20news-bydate.tar.gz (14 MB)\n"
     ]
    }
   ],
   "source": [
    "newsgroups = datasets.fetch_20newsgroups(\n",
    "                    subset='all', \n",
    "                    categories=['alt.atheism', 'sci.space']\n",
    "             )"
   ]
  },
  {
   "cell_type": "code",
   "execution_count": 62,
   "metadata": {
    "collapsed": false
   },
   "outputs": [],
   "source": [
    "Y=newsgroups.target\n",
    "X=newsgroups.data"
   ]
  },
  {
   "cell_type": "code",
   "execution_count": 73,
   "metadata": {
    "collapsed": false
   },
   "outputs": [],
   "source": [
    "tfidf_vectorizer = TfidfVectorizer()\n",
    "tfidf = tfidf_vectorizer.fit_transform(X)"
   ]
  },
  {
   "cell_type": "code",
   "execution_count": 81,
   "metadata": {
    "collapsed": false
   },
   "outputs": [
    {
     "data": {
      "text/plain": [
       "GridSearchCV(cv=sklearn.cross_validation.KFold(n=1786, n_folds=5, shuffle=True, random_state=241),\n",
       "       error_score='raise',\n",
       "       estimator=SVC(C=1.0, cache_size=200, class_weight=None, coef0=0.0, degree=3, gamma=0.0,\n",
       "  kernel='linear', max_iter=-1, probability=False, random_state=241,\n",
       "  shrinking=True, tol=0.001, verbose=False),\n",
       "       fit_params={}, iid=True, loss_func=None, n_jobs=1,\n",
       "       param_grid={'C': array([  1.00000e-05,   1.00000e-04,   1.00000e-03,   1.00000e-02,\n",
       "         1.00000e-01,   1.00000e+00,   1.00000e+01,   1.00000e+02,\n",
       "         1.00000e+03,   1.00000e+04,   1.00000e+05])},\n",
       "       pre_dispatch='2*n_jobs', refit=True, score_func=None,\n",
       "       scoring='accuracy', verbose=0)"
      ]
     },
     "execution_count": 81,
     "metadata": {},
     "output_type": "execute_result"
    }
   ],
   "source": [
    "grid = {'C': np.power(10.0, np.arange(-5, 6))}\n",
    "cv = KFold(Y.size, n_folds=5, shuffle=True, random_state=241)\n",
    "clf = SVC(kernel='linear', random_state=241)\n",
    "gs = GridSearchCV(clf, grid, scoring='accuracy', cv=cv)\n",
    "gs.fit(tfidf, Y)"
   ]
  },
  {
   "cell_type": "code",
   "execution_count": 114,
   "metadata": {
    "collapsed": false
   },
   "outputs": [
    {
     "name": "stdout",
     "output_type": "stream",
     "text": [
      "[{'C': 1.0}, {'C': 10.0}, {'C': 100.0}, {'C': 1000.0}, {'C': 10000.0}, {'C': 100000.0}]\n",
      "{'C': 1.0}\n"
     ]
    }
   ],
   "source": [
    "best_score=max([a.mean_validation_score for a in gs.grid_scores_])\n",
    "print [a.parameters for a in gs.grid_scores_ if a.mean_validation_score == best_score]\n",
    "print gs.best_params_"
   ]
  },
  {
   "cell_type": "code",
   "execution_count": 113,
   "metadata": {
    "collapsed": false
   },
   "outputs": [],
   "source": [
    "clf = SVC(kernel='linear', random_state=241, C = 1.0)\n",
    "model = clf.fit(tfidf,Y)"
   ]
  },
  {
   "cell_type": "code",
   "execution_count": 103,
   "metadata": {
    "collapsed": false
   },
   "outputs": [],
   "source": [
    "coeff = model.coef_\n",
    "coeff = np.sort(abs(coeff))"
   ]
  },
  {
   "cell_type": "code",
   "execution_count": 167,
   "metadata": {
    "collapsed": false
   },
   "outputs": [],
   "source": [
    "#top 10 words\n",
    "res=[tfidf_vectorizer.get_feature_names()[i] \n",
    "       for i in np.argsort(abs(np.asarray(gs.best_estimator_.coef_.todense()).reshape(-1)))[-10:]]\n",
    "print sorted(res)"
   ]
  },
  {
   "cell_type": "markdown",
   "metadata": {},
   "source": [
    "# Gradient descent for logistic regression"
   ]
  },
  {
   "cell_type": "code",
   "execution_count": 278,
   "metadata": {
    "collapsed": true
   },
   "outputs": [],
   "source": [
    "data = pd.read_csv(\"C:/Users/U_M0SLV/Downloads/data-logistic.csv\", header = None)\n",
    "X=data[[1,2]]\n",
    "Y=data[0]"
   ]
  },
  {
   "cell_type": "code",
   "execution_count": 383,
   "metadata": {
    "collapsed": false
   },
   "outputs": [],
   "source": [
    "def grad_dsc_step(w, y, x, learningRate, **kwargs):\n",
    "    N = len(y)\n",
    "    w_gradient = np.zeros(x.shape[1])\n",
    "    for i in range(0, N):\n",
    "        y_i = y[i]\n",
    "        w_gradient += y_i*x.loc[i]*(1.0-1.0/(1+exp(-y_i*sum(x.loc[i]*w))))\n",
    "    if 'regularization' in kwargs and kwargs['regularization'] == 'L2':\n",
    "        return w + 1.0 * learningRate / N * w_gradient - learningRate*kwargs['C']*w\n",
    "    else:\n",
    "        return w + 1.0 * learningRate / N * w_gradient"
   ]
  },
  {
   "cell_type": "code",
   "execution_count": 397,
   "metadata": {
    "collapsed": false
   },
   "outputs": [],
   "source": [
    "def grad_dsc(y, x, learningRate, conv, **kwargs):\n",
    "    d = 1\n",
    "    i = 0\n",
    "    weights = np.zeros(x.shape[1])\n",
    "    if 'regularization' in kwargs and 'C' not in kwargs:\n",
    "        print 'Parameter C is required in case of regularization'\n",
    "        return None, None\n",
    "    while d > conv and i < kwargs['n_max']:\n",
    "        weights_new = grad_dsc_step(weights, y, x, k, **kwargs)\n",
    "        d = np.linalg.norm(weights_new-weights)\n",
    "        weights = weights_new\n",
    "        i += 1\n",
    "    return weights, i"
   ]
  },
  {
   "cell_type": "code",
   "execution_count": 398,
   "metadata": {
    "collapsed": false
   },
   "outputs": [],
   "source": [
    "w, it = grad_dsc(Y, X, 0.1, 10**-5, n_max = 10**3)\n",
    "predictions = (w*X).sum(axis=1).apply(lambda x: 1.0/(1.0+exp(-x)))\n",
    "w_r, it_r = grad_dsc(Y, X, 0.1, 10**-5, n_max = 10**3, regularization = \"L2\", C = 10.0)\n",
    "predictions_r = (w_r*X).sum(axis=1).apply(lambda x: 1.0/(1.0+exp(-x)))"
   ]
  },
  {
   "cell_type": "code",
   "execution_count": 399,
   "metadata": {
    "collapsed": false
   },
   "outputs": [
    {
     "name": "stdout",
     "output_type": "stream",
     "text": [
      "ROC-AUC without regularization is 0.927 and with L2-regularization it's 0.936\n"
     ]
    }
   ],
   "source": [
    "print \"ROC-AUC without regularization is {0:.3f} and with L2-regularization it's {1:.3f}\".format(\n",
    "    roc_auc_score(Y, predictions), roc_auc_score(Y, predictions_r))"
   ]
  },
  {
   "cell_type": "markdown",
   "metadata": {},
   "source": [
    "# Classification metrics"
   ]
  },
  {
   "cell_type": "code",
   "execution_count": 457,
   "metadata": {
    "collapsed": true
   },
   "outputs": [],
   "source": [
    "data = pd.read_csv(\"C:/Users/U_M0SLV/Downloads/classification.csv\")"
   ]
  },
  {
   "cell_type": "code",
   "execution_count": 431,
   "metadata": {
    "collapsed": false
   },
   "outputs": [
    {
     "name": "stdout",
     "output_type": "stream",
     "text": [
      "TP: 43, TN: 64, FP: 34, FN: 59\n"
     ]
    }
   ],
   "source": [
    "print \"TP: {0:.0f}, TN: {1:.0f}, FP: {2:.0f}, FN: {3:.0f}\".format(\n",
    "    data[(data['true']==1) & (data['pred'] == 1)]['true'].count(),\n",
    "    data[(data['true']==0) & (data['pred'] == 0)]['true'].count(),\n",
    "    data[(data['true']==0) & (data['pred'] == 1)]['true'].count(),\n",
    "    data[(data['true']==1) & (data['pred'] == 0)]['true'].count())"
   ]
  },
  {
   "cell_type": "code",
   "execution_count": 458,
   "metadata": {
    "collapsed": false
   },
   "outputs": [
    {
     "name": "stdout",
     "output_type": "stream",
     "text": [
      "Accuracy: 0.54, precision: 0.56, recall: 0.42, f1: 0.48\n"
     ]
    }
   ],
   "source": [
    "print \"Accuracy: {0:.2f}, precision: {1:.2f}, recall: {2:.2f}, f1: {3:.2f}\".format(accuracy_score(data['true'], data['pred']),\n",
    "                                                                      precision_score(data['true'], data['pred']),\n",
    "                                                                      recall_score(data['true'], data['pred']),\n",
    "                                                                      f1_score(data['true'], data['pred']))"
   ]
  },
  {
   "cell_type": "code",
   "execution_count": 432,
   "metadata": {
    "collapsed": true
   },
   "outputs": [],
   "source": [
    "data = pd.read_csv(\"C:/Users/U_M0SLV/Downloads/scores.csv\")"
   ]
  },
  {
   "cell_type": "code",
   "execution_count": 435,
   "metadata": {
    "collapsed": false
   },
   "outputs": [
    {
     "name": "stdout",
     "output_type": "stream",
     "text": [
      "ROA-AUC for logreg: 0.719, svm: 0.709, knn: 0.635, tree: 0.692\n"
     ]
    }
   ],
   "source": [
    "print \"ROA-AUC for logreg: {0:.3f}, svm: {1:.3f}, knn: {2:.3f}, tree: {3:.3f}\".format(roc_auc_score(data['true'], data['score_logreg']),\n",
    "                                                                                      roc_auc_score(data['true'], data['score_svm']),\n",
    "                                                                                      roc_auc_score(data['true'], data['score_knn']),\n",
    "                                                                                      roc_auc_score(data['true'], data['score_tree']))"
   ]
  },
  {
   "cell_type": "code",
   "execution_count": 456,
   "metadata": {
    "collapsed": false
   },
   "outputs": [
    {
     "name": "stdout",
     "output_type": "stream",
     "text": [
      "Accuracy under recall > 0.7 for score_logreg is 0.630\n",
      "Accuracy under recall > 0.7 for score_svm is 0.623\n",
      "Accuracy under recall > 0.7 for score_knn is 0.607\n",
      "Accuracy under recall > 0.7 for score_tree is 0.652\n"
     ]
    }
   ],
   "source": [
    "for c in ('score_logreg', 'score_svm', 'score_knn', 'score_tree'):\n",
    "    pr, rc, th = precision_recall_curve(data['true'], data[c])\n",
    "    print \"Accuracy under recall > 0.7 for {0} is {1:.3f}\".format(c, pr[np.where(rc > 0.7)].max())"
   ]
  }
 ],
 "metadata": {
  "kernelspec": {
   "display_name": "Python 2",
   "language": "python",
   "name": "python2"
  },
  "language_info": {
   "codemirror_mode": {
    "name": "ipython",
    "version": 2
   },
   "file_extension": ".py",
   "mimetype": "text/x-python",
   "name": "python",
   "nbconvert_exporter": "python",
   "pygments_lexer": "ipython2",
   "version": "2.7.10"
  }
 },
 "nbformat": 4,
 "nbformat_minor": 0
}
