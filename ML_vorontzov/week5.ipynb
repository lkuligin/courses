{
 "cells": [
  {
   "cell_type": "code",
   "execution_count": 1,
   "metadata": {
    "collapsed": false
   },
   "outputs": [],
   "source": [
    "import pandas as pd\n",
    "import numpy as np\n",
    "from sklearn.feature_extraction.text import TfidfVectorizer\n",
    "from sklearn.feature_extraction import DictVectorizer\n",
    "from scipy.sparse import hstack\n",
    "from sklearn.linear_model import Ridge\n",
    "from sklearn.decomposition import PCA"
   ]
  },
  {
   "cell_type": "markdown",
   "metadata": {},
   "source": [
    "# Size of random forest"
   ]
  },
  {
   "cell_type": "code",
   "execution_count": 3,
   "metadata": {
    "collapsed": true
   },
   "outputs": [],
   "source": [
    "data = pd.read_csv(\"C:/Users/Leonid/Downloads/abalone.csv\")"
   ]
  },
  {
   "cell_type": "code",
   "execution_count": 4,
   "metadata": {
    "collapsed": true
   },
   "outputs": [],
   "source": [
    "data['Sex'] = data['Sex'].map(lambda x: 1 if x == 'M' else (-1 if x == 'F' else 0))"
   ]
  },
  {
   "cell_type": "code",
   "execution_count": 35,
   "metadata": {
    "collapsed": false
   },
   "outputs": [],
   "source": [
    "Y=data[data.columns[-1:]]\n",
    "X=data[data.columns[:-1]]"
   ]
  },
  {
   "cell_type": "code",
   "execution_count": 42,
   "metadata": {
    "collapsed": false
   },
   "outputs": [],
   "source": [
    "Y1=Y.values.ravel()\n",
    "X1=X.as_matrix()"
   ]
  },
  {
   "cell_type": "code",
   "execution_count": 56,
   "metadata": {
    "collapsed": false
   },
   "outputs": [],
   "source": [
    "kfl = KFold(len(data), n_folds=5, shuffle=True, random_state=1)\n",
    "scores = []\n",
    "k_range = range(1,50)\n",
    "for i in k_range:\n",
    "    clf = RandomForestRegressor(n_estimators=i,random_state=1)\n",
    "    scores.append(cross_val_score(clf, X1, Y1, cv=kfl, scoring='r2').mean())"
   ]
  },
  {
   "cell_type": "code",
   "execution_count": 58,
   "metadata": {
    "collapsed": false
   },
   "outputs": [
    {
     "name": "stdout",
     "output_type": "stream",
     "text": [
      "Maximum R2 for k=49 with error 0.529059836682\n"
     ]
    }
   ],
   "source": [
    "print \"Maximum R2 for k=\" + str(scores.index(max(scores))+1) + \" with error \" + str(max(scores))"
   ]
  },
  {
   "cell_type": "code",
   "execution_count": 66,
   "metadata": {
    "collapsed": false
   },
   "outputs": [
    {
     "name": "stdout",
     "output_type": "stream",
     "text": [
      "Minimum estimators giving accuracy > 0.52: 23\n"
     ]
    }
   ],
   "source": [
    "print \"Minimum estimators giving accuracy > 0.52: {0}\".format([i for i in range(len(scores)) if scores[i] > 0.52][0])"
   ]
  },
  {
   "cell_type": "code",
   "execution_count": 76,
   "metadata": {
    "collapsed": false,
    "scrolled": true
   },
   "outputs": [
    {
     "data": {
      "image/png": "[encoded data removed]",
      "text/plain": [
       "<matplotlib.figure.Figure at 0x1bf25978>"
      ]
     },
     "metadata": {},
     "output_type": "display_data"
    }
   ],
   "source": [
    "plt.figure(1)\n",
    "plt.plot(k_range, scores)\n",
    "plt.plot(k_range, map(lambda x: 0.52, k_range), 'k--')\n",
    "plt.xlabel(\"Amount of estimators\")\n",
    "plt.ylabel(\"Accuracy, cross-validated\")\n",
    "plt.title(\"Size of random forest\")\n",
    "plt.show()"
   ]
  },
  {
   "cell_type": "markdown",
   "metadata": {},
   "source": [
    "# Boosting"
   ]
  },
  {
   "cell_type": "code",
   "execution_count": 77,
   "metadata": {
    "collapsed": true
   },
   "outputs": [],
   "source": [
    "data = pd.read_csv(\"C:/Users/Leonid/Downloads/gbm-data.csv\")"
   ]
  },
  {
   "cell_type": "code",
   "execution_count": 80,
   "metadata": {
    "collapsed": false
   },
   "outputs": [],
   "source": [
    "Y=data[[0]]\n",
    "X=data[data.columns[1:]]"
   ]
  },
  {
   "cell_type": "code",
   "execution_count": 84,
   "metadata": {
    "collapsed": true
   },
   "outputs": [],
   "source": [
    "Y1=Y.values.ravel()\n",
    "X1=X.as_matrix()"
   ]
  },
  {
   "cell_type": "code",
   "execution_count": 114,
   "metadata": {
    "collapsed": false
   },
   "outputs": [],
   "source": [
    "X_train, X_test, Y_train, Y_test = train_test_split(X, Y, test_size=0.8, random_state=241)"
   ]
  },
  {
   "cell_type": "code",
   "execution_count": 115,
   "metadata": {
    "collapsed": false
   },
   "outputs": [
    {
     "name": "stdout",
     "output_type": "stream",
     "text": [
      "      Iter       Train Loss   Remaining Time \n",
      "         1           1.2613            1.23m\n",
      "         2           1.1715            1.09m\n",
      "         3           1.1009           59.36s\n",
      "         4           1.0529           56.15s\n",
      "         5           1.0130           54.59s\n",
      "         6           0.9740           52.95s\n",
      "         7           0.9475           51.17s\n",
      "         8           0.9197           50.76s\n",
      "         9           0.8979           49.24s\n",
      "        10           0.8730           48.65s\n",
      "        20           0.7207           41.83s\n",
      "        30           0.6055           38.70s\n",
      "        40           0.5244           35.53s\n",
      "        50           0.4501           33.62s\n",
      "        60           0.3908           31.81s\n",
      "        70           0.3372           30.19s\n",
      "        80           0.3009           28.57s\n",
      "        90           0.2603           26.84s\n",
      "       100           0.2327           24.83s\n",
      "       200           0.0835            7.87s\n"
     ]
    },
    {
     "name": "stderr",
     "output_type": "stream",
     "text": [
      "C:\\Users\\Leonid\\Anaconda\\lib\\site-packages\\sklearn\\utils\\validation.py:449: DataConversionWarning: A column-vector y was passed when a 1d array was expected. Please change the shape of y to (n_samples, ), for example using ravel().\n",
      "  y = column_or_1d(y, warn=True)\n"
     ]
    }
   ],
   "source": [
    "l = 0.2\n",
    "clf = GradientBoostingClassifier(n_estimators=250, verbose=True, random_state=241, learning_rate = l)\n",
    "model = clf.fit(X_train, Y_train)"
   ]
  },
  {
   "cell_type": "code",
   "execution_count": 116,
   "metadata": {
    "collapsed": false
   },
   "outputs": [],
   "source": [
    "log_loss_train = []\n",
    "for predict in model.staged_decision_function(X_train):\n",
    "    predict = 1.0/(1.0+exp(-predict))\n",
    "    log_loss_train.append(log_loss(Y_train, predict))\n",
    "log_loss_test = []\n",
    "for predict in model.staged_decision_function(X_test):\n",
    "    predict = 1.0/(1.0+exp(-predict))\n",
    "    log_loss_test.append(log_loss(Y_test, predict))"
   ]
  },
  {
   "cell_type": "code",
   "execution_count": 117,
   "metadata": {
    "collapsed": false
   },
   "outputs": [
    {
     "data": {
      "image/png": "[encoded data removed]",
      "text/plain": [
       "<matplotlib.figure.Figure at 0x1b027780>"
      ]
     },
     "metadata": {},
     "output_type": "display_data"
    }
   ],
   "source": [
    "plt.figure()\n",
    "plt.plot(log_loss_test, 'r', linewidth=2)\n",
    "plt.plot(log_loss_train, 'g', linewidth=2)\n",
    "plt.legend(['test', 'train'])\n",
    "plt.show()"
   ]
  },
  {
   "cell_type": "code",
   "execution_count": 118,
   "metadata": {
    "collapsed": false
   },
   "outputs": [
    {
     "name": "stdout",
     "output_type": "stream",
     "text": [
      "Minimum log_loss is 0.53 and it's achived on the 36 iteration \n"
     ]
    }
   ],
   "source": [
    "print \"Minimum log_loss is {0:0.2f} and it's achived on the {1} iteration \".format(min(log_loss_test), log_loss_test.index(min(log_loss_test)))"
   ]
  },
  {
   "cell_type": "code",
   "execution_count": 123,
   "metadata": {
    "collapsed": false
   },
   "outputs": [
    {
     "name": "stderr",
     "output_type": "stream",
     "text": [
      "C:\\Users\\Leonid\\Anaconda\\lib\\site-packages\\IPython\\kernel\\__main__.py:2: DataConversionWarning: A column-vector y was passed when a 1d array was expected. Please change the shape of y to (n_samples,), for example using ravel().\n",
      "  from IPython.kernel.zmq import kernelapp as app\n"
     ]
    }
   ],
   "source": [
    "clf2 = RandomForestClassifier(random_state=241, n_estimators = log_loss_test.index(min(log_loss_test)))\n",
    "model2 = clf2.fit(X_train, Y_train)"
   ]
  },
  {
   "cell_type": "code",
   "execution_count": 130,
   "metadata": {
    "collapsed": false
   },
   "outputs": [
    {
     "name": "stdout",
     "output_type": "stream",
     "text": [
      "0.540966705647\n"
     ]
    }
   ],
   "source": [
    "predict2 = clf2.predict_proba(X_test)\n",
    "log_loss_rfc = log_loss(Y_test, predict2)\n",
    "print log_loss_rfc"
   ]
  },
  {
   "cell_type": "code",
   "execution_count": null,
   "metadata": {
    "collapsed": true
   },
   "outputs": [],
   "source": []
  }
 ],
 "metadata": {
  "kernelspec": {
   "display_name": "Python 2",
   "language": "python",
   "name": "python2"
  },
  "language_info": {
   "codemirror_mode": {
    "name": "ipython",
    "version": 2
   },
   "file_extension": ".py",
   "mimetype": "text/x-python",
   "name": "python",
   "nbconvert_exporter": "python",
   "pygments_lexer": "ipython2",
   "version": "2.7.10"
  }
 },
 "nbformat": 4,
 "nbformat_minor": 0
}
